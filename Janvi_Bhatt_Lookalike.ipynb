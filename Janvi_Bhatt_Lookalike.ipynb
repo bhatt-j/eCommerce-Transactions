{
  "nbformat": 4,
  "nbformat_minor": 0,
  "metadata": {
    "colab": {
      "provenance": []
    },
    "kernelspec": {
      "name": "python3",
      "display_name": "Python 3"
    },
    "language_info": {
      "name": "python"
    }
  },
  "cells": [
    {
      "cell_type": "markdown",
      "source": [
        "# Libraries"
      ],
      "metadata": {
        "id": "Q2TBCYUDFSN_"
      }
    },
    {
      "cell_type": "code",
      "source": [
        "import pandas as pd\n",
        "from sklearn.metrics.pairwise import cosine_similarity\n",
        "from sklearn.preprocessing import StandardScaler\n",
        "from datetime import datetime"
      ],
      "metadata": {
        "id": "oLOHn0UA77Zn"
      },
      "execution_count": 4,
      "outputs": []
    },
    {
      "cell_type": "markdown",
      "source": [
        "# Load Data"
      ],
      "metadata": {
        "id": "j53fVdEUFPb4"
      }
    },
    {
      "cell_type": "code",
      "source": [
        "customers = pd.read_csv('Customers.csv')\n",
        "products = pd.read_csv('Products.csv')\n",
        "transactions = pd.read_csv('Transactions.csv')"
      ],
      "metadata": {
        "id": "9Jndr97h7_yu"
      },
      "execution_count": 3,
      "outputs": []
    },
    {
      "cell_type": "markdown",
      "source": [
        "# Preprocessing"
      ],
      "metadata": {
        "id": "PgtngnUlEZjB"
      }
    },
    {
      "cell_type": "code",
      "source": [
        "# type conversion\n",
        "customers['SignupDate'] = pd.to_datetime(customers['SignupDate'])\n",
        "transactions['TransactionDate'] = pd.to_datetime(transactions['TransactionDate'])"
      ],
      "metadata": {
        "id": "OaD2yiYd8OFs"
      },
      "execution_count": 5,
      "outputs": []
    },
    {
      "cell_type": "code",
      "execution_count": 6,
      "metadata": {
        "id": "2qn9OYfu75bd"
      },
      "outputs": [],
      "source": [
        "transactions_with_details = transactions.merge(products, on='ProductID') # transactions with product details\n",
        "transactions_with_customers = transactions_with_details.merge(customers, on='CustomerID') # transactions with customer details"
      ]
    },
    {
      "cell_type": "markdown",
      "source": [
        "# Feature Engineering"
      ],
      "metadata": {
        "id": "0R51SuAiEKu7"
      }
    },
    {
      "cell_type": "code",
      "source": [
        "customer_features = transactions_with_customers.groupby('CustomerID').agg(\n",
        "    total_spending=('TotalValue', 'sum'),\n",
        "    avg_order_value=('TotalValue', 'mean'),\n",
        "    transaction_count=('TransactionID', 'count'),\n",
        "    favorite_category=('Category', lambda x: x.mode()[0]),  # Most frequent category\n",
        ").reset_index()"
      ],
      "metadata": {
        "id": "w5BeF6GG80WY"
      },
      "execution_count": 7,
      "outputs": []
    },
    {
      "cell_type": "code",
      "source": [
        "customer_features = customer_features.merge(customers[['CustomerID', 'Region']], on='CustomerID')\n",
        "customer_features = pd.get_dummies(customer_features, columns=['favorite_category', 'Region'], drop_first=True)"
      ],
      "metadata": {
        "id": "G98-1mVG847f"
      },
      "execution_count": 8,
      "outputs": []
    },
    {
      "cell_type": "code",
      "source": [
        "scaler = StandardScaler() # feature scaling\n",
        "normalized_features = scaler.fit_transform(customer_features.drop(['CustomerID'], axis=1))"
      ],
      "metadata": {
        "id": "ZtspXynS88GR"
      },
      "execution_count": 9,
      "outputs": []
    },
    {
      "cell_type": "markdown",
      "source": [
        "# Similarity Score"
      ],
      "metadata": {
        "id": "BCwAkLZvDdwJ"
      }
    },
    {
      "cell_type": "code",
      "source": [
        "similarity_matrix = cosine_similarity(normalized_features)"
      ],
      "metadata": {
        "id": "60FOC-f68-4s"
      },
      "execution_count": 10,
      "outputs": []
    },
    {
      "cell_type": "code",
      "source": [
        "similar_customers = {}\n",
        "for i, customer_id in enumerate(customer_features['CustomerID']):\n",
        "    similarities = list(enumerate(similarity_matrix[i]))\n",
        "    similarities = sorted(similarities, key=lambda x: x[1], reverse=True)  # Sort by similarity score\n",
        "    top_3 = [(customer_features['CustomerID'][idx], score) for idx, score in similarities[1:4]]  # Exclude self\n",
        "    similar_customers[customer_id] = top_3"
      ],
      "metadata": {
        "id": "iekIBd0V9BfI"
      },
      "execution_count": 11,
      "outputs": []
    },
    {
      "cell_type": "code",
      "source": [
        "similar_customers_subset = {key: similar_customers[key] for key in customer_features['CustomerID'] if key in [f'C{i:04d}' for i in range(1, 21)]}"
      ],
      "metadata": {
        "id": "2Srb1beu9X_d"
      },
      "execution_count": 12,
      "outputs": []
    },
    {
      "cell_type": "markdown",
      "source": [
        "# Save Similarity Map"
      ],
      "metadata": {
        "id": "IpCofD71BkCL"
      }
    },
    {
      "cell_type": "code",
      "source": [
        "lookalike_df = pd.DataFrame({'cust_id': similar_customers_subset.keys(), 'lookalikes': similar_customers_subset.values()})\n",
        "lookalike_df.to_csv('Janvi_Bhatt_Lookalike.csv', index=False)"
      ],
      "metadata": {
        "id": "YLAHAwvm9bFz"
      },
      "execution_count": 19,
      "outputs": []
    },
    {
      "cell_type": "markdown",
      "source": [
        "# Extra: Dynamically returns lookalikes\n",
        "### for all the customers"
      ],
      "metadata": {
        "id": "bxKVIiAfB3rV"
      }
    },
    {
      "cell_type": "code",
      "source": [
        "def get_top_3_lookalikes(customer_id):\n",
        "    if customer_id not in customer_features['CustomerID'].values:\n",
        "        return f\"CustomerID {customer_id} not found.\"\n",
        "\n",
        "    customer_idx = customer_features[customer_features['CustomerID'] == customer_id].index[0]\n",
        "    similarities = list(enumerate(similarity_matrix[customer_idx]))\n",
        "    similarities = sorted(similarities, key=lambda x: x[1], reverse=True)  # Sort by similarity score\n",
        "    top_3 = [(customer_features['CustomerID'][idx], score) for idx, score in similarities[1:4]] # discarding self cust ID\n",
        "    return top_3"
      ],
      "metadata": {
        "id": "dDnYr6wS_u2D"
      },
      "execution_count": 14,
      "outputs": []
    },
    {
      "cell_type": "code",
      "source": [
        "print(get_top_3_lookalikes('C0003'))"
      ],
      "metadata": {
        "colab": {
          "base_uri": "https://localhost:8080/"
        },
        "id": "2yvO6FWDAbBp",
        "outputId": "9827a051-000c-405c-e82d-2aa446f3f679"
      },
      "execution_count": 17,
      "outputs": [
        {
          "output_type": "stream",
          "name": "stdout",
          "text": [
            "[('C0052', 0.995097046978372), ('C0031', 0.9605101553121962), ('C0076', 0.9382684470986701)]\n"
          ]
        }
      ]
    },
    {
      "cell_type": "code",
      "source": [
        "print(get_top_3_lookalikes('C0011'))"
      ],
      "metadata": {
        "colab": {
          "base_uri": "https://localhost:8080/"
        },
        "id": "F-iDHlNN_wK_",
        "outputId": "b49de486-531f-484d-cec9-0c2089d0b22d"
      },
      "execution_count": 16,
      "outputs": [
        {
          "output_type": "stream",
          "name": "stdout",
          "text": [
            "[('C0169', 0.9395786532149496), ('C0174', 0.9222322478387583), ('C0153', 0.9159318817104083)]\n"
          ]
        }
      ]
    }
  ]
}